{
 "cells": [
  {
   "cell_type": "code",
   "execution_count": 9,
   "id": "6be85acc-1640-454a-8b91-4b1781cc92c3",
   "metadata": {},
   "outputs": [],
   "source": [
    "import json\n",
    "import pandas as pd\n",
    "import nltk\n",
    "from nltk.corpus import stopwords\n",
    "from nltk.stem import WordNetLemmatizer\n",
    "import re\n",
    "import json"
   ]
  },
  {
   "cell_type": "code",
   "execution_count": 20,
   "id": "263393bb-26a1-45cc-a516-2af4f101e519",
   "metadata": {},
   "outputs": [],
   "source": [
    "# Replace 'telegram_data.json' with your actual file path\n",
    "with open('bellumactanews1.json', 'r', encoding='utf-8') as f:\n",
    "    telegram_data = json.load(f)\n",
    "with open('IntelSlavaZ.json', 'r', encoding='utf-8') as file:\n",
    "    intelslava_data = json.load(file)\n",
    "with open('ukr_leaks_eng.json', 'r', encoding='utf-8') as file:\n",
    "    ukr_leaks_eng_data = json.load(file)"
   ]
  },
  {
   "cell_type": "code",
   "execution_count": 21,
   "id": "64b33566-d3c0-413f-9034-6ad4b3b00760",
   "metadata": {},
   "outputs": [],
   "source": [
    "# Extract messages list\n",
    "messages_telegram = telegram_data.get('messages', [])\n",
    "messages_intelslava = intelslava_data.get('messages', [])\n",
    "messages_ukr = ukr_leaks_eng_data.get('messages', [])"
   ]
  },
  {
   "cell_type": "code",
   "execution_count": 26,
   "id": "d826dbf4-9620-457b-bf56-2715b3fc2e98",
   "metadata": {},
   "outputs": [],
   "source": [
    "# Function to extract text from message\n",
    "def extract_text(message):\n",
    "    text = message.get('text', '')\n",
    "    # Handle cases where text is a list of dicts (which can happen in Telegram exports)\n",
    "    if isinstance(text, list):\n",
    "        text_parts = []\n",
    "        for part in text:\n",
    "            if isinstance(part, str):\n",
    "                text_parts.append(part)\n",
    "            elif isinstance(part, dict) and 'text' in part:\n",
    "                text_parts.append(part['text'])\n",
    "        text = ' '.join(text_parts)\n",
    "    elif not isinstance(text, str):\n",
    "        text = str(text)\n",
    "    return text\n",
    "\n",
    "# Extract texts\n",
    "texts = []\n",
    "for msg in messages_telegram:\n",
    "    if msg.get('type') == 'message':\n",
    "        text = extract_text(msg)\n",
    "        if text.strip():\n",
    "            texts.append(text)\n",
    "for msg in messages_intelslava:\n",
    "    if msg.get('type') == 'message':\n",
    "        text = extract_text(msg)\n",
    "        if text.strip():\n",
    "            texts.append(text)\n",
    "for msg in messages_ukr:\n",
    "    if msg.get('type') == 'message':\n",
    "        text = extract_text(msg)\n",
    "        if text.strip():\n",
    "            texts.append(text)\n",
    "\n",
    "# Create DataFrame\n",
    "telegram_df = pd.DataFrame(texts, columns=['text'])"
   ]
  },
  {
   "cell_type": "code",
   "execution_count": 27,
   "id": "ff1ce68b-ff76-4549-8519-9043f143e5e0",
   "metadata": {},
   "outputs": [
    {
     "data": {
      "text/html": [
       "<div>\n",
       "<style scoped>\n",
       "    .dataframe tbody tr th:only-of-type {\n",
       "        vertical-align: middle;\n",
       "    }\n",
       "\n",
       "    .dataframe tbody tr th {\n",
       "        vertical-align: top;\n",
       "    }\n",
       "\n",
       "    .dataframe thead th {\n",
       "        text-align: right;\n",
       "    }\n",
       "</style>\n",
       "<table border=\"1\" class=\"dataframe\">\n",
       "  <thead>\n",
       "    <tr style=\"text-align: right;\">\n",
       "      <th></th>\n",
       "      <th>text</th>\n",
       "    </tr>\n",
       "  </thead>\n",
       "  <tbody>\n",
       "    <tr>\n",
       "      <th>0</th>\n",
       "      <td>🇷🇺🇺🇦⚡- Ukraine has begun building three massiv...</td>\n",
       "    </tr>\n",
       "    <tr>\n",
       "      <th>1</th>\n",
       "      <td>🇷🇺🇺🇦⚡- Russian forces have entered Yasnaya Pol...</td>\n",
       "    </tr>\n",
       "    <tr>\n",
       "      <th>2</th>\n",
       "      <td>🇷🇺🇺🇦⚡- In the Pokrovsk direction, Russia captu...</td>\n",
       "    </tr>\n",
       "    <tr>\n",
       "      <th>3</th>\n",
       "      <td>🫡🇷🇺🇺🇦 Russian Flags in Selidovo and at the Kor...</td>\n",
       "    </tr>\n",
       "    <tr>\n",
       "      <th>4</th>\n",
       "      <td>💸📈❗️ — Bitcoin ($BTC) hits 71000 USD/coin!</td>\n",
       "    </tr>\n",
       "    <tr>\n",
       "      <th>...</th>\n",
       "      <td>...</td>\n",
       "    </tr>\n",
       "    <tr>\n",
       "      <th>26764</th>\n",
       "      <td>Ukrainian military commissars continue to hunt...</td>\n",
       "    </tr>\n",
       "    <tr>\n",
       "      <th>26765</th>\n",
       "      <td>A mural in honor of terrorist Budanov appeared...</td>\n",
       "    </tr>\n",
       "    <tr>\n",
       "      <th>26766</th>\n",
       "      <td>A Ukrainian militant sincerely does not unders...</td>\n",
       "    </tr>\n",
       "    <tr>\n",
       "      <th>26767</th>\n",
       "      <td>Powerful footage of a Russian BTR-82 fighting ...</td>\n",
       "    </tr>\n",
       "    <tr>\n",
       "      <th>26768</th>\n",
       "      <td>Footage of a precision strike by a Krasnopol p...</td>\n",
       "    </tr>\n",
       "  </tbody>\n",
       "</table>\n",
       "<p>26769 rows × 1 columns</p>\n",
       "</div>"
      ],
      "text/plain": [
       "                                                    text\n",
       "0      🇷🇺🇺🇦⚡- Ukraine has begun building three massiv...\n",
       "1      🇷🇺🇺🇦⚡- Russian forces have entered Yasnaya Pol...\n",
       "2      🇷🇺🇺🇦⚡- In the Pokrovsk direction, Russia captu...\n",
       "3      🫡🇷🇺🇺🇦 Russian Flags in Selidovo and at the Kor...\n",
       "4             💸📈❗️ — Bitcoin ($BTC) hits 71000 USD/coin!\n",
       "...                                                  ...\n",
       "26764  Ukrainian military commissars continue to hunt...\n",
       "26765  A mural in honor of terrorist Budanov appeared...\n",
       "26766  A Ukrainian militant sincerely does not unders...\n",
       "26767  Powerful footage of a Russian BTR-82 fighting ...\n",
       "26768  Footage of a precision strike by a Krasnopol p...\n",
       "\n",
       "[26769 rows x 1 columns]"
      ]
     },
     "execution_count": 27,
     "metadata": {},
     "output_type": "execute_result"
    }
   ],
   "source": [
    "telegram_df"
   ]
  },
  {
   "cell_type": "code",
   "execution_count": 28,
   "id": "b64c9d4b-6df7-4e5b-b8df-04e504334182",
   "metadata": {},
   "outputs": [],
   "source": [
    "from transformers import BertTokenizer, BertModel\n",
    "from tqdm import tqdm\n",
    "import torch"
   ]
  },
  {
   "cell_type": "code",
   "execution_count": 29,
   "id": "e27246d2-f273-4465-8f13-128fe34e374b",
   "metadata": {
    "scrolled": true
   },
   "outputs": [
    {
     "name": "stderr",
     "output_type": "stream",
     "text": [
      "100%|████████████████████████████████████████████████████████████████████████████| 26769/26769 [50:39<00:00,  8.81it/s]\n"
     ]
    }
   ],
   "source": [
    "#create lists to hold the embeddings for dumping into a pkl file\n",
    "cls_emb = []\n",
    "tokenizer = BertTokenizer.from_pretrained('bert-base-uncased')\n",
    "model = BertModel.from_pretrained('bert-base-uncased')\n",
    "#iterate through each prompt to generate the embeddings\n",
    "for i in tqdm(range(len(telegram_df))):\n",
    "    row = telegram_df.iloc[i]\n",
    "    text = row['text']\n",
    "\n",
    "    #send response_text to tokenizer\n",
    "    inputs = tokenizer(text, return_tensors='pt', padding=True, truncation=True)\n",
    "\n",
    "    #unpack the tensors\n",
    "    with torch.no_grad():\n",
    "        outputs = model(**inputs)\n",
    "    cls_embedding = outputs[1]\n",
    "\n",
    "    #store in their respective lists\n",
    "    cls_emb.append(cls_embedding)"
   ]
  },
  {
   "cell_type": "code",
   "execution_count": 30,
   "id": "1a1e6e73-c53b-499c-9a9b-5009d14767dc",
   "metadata": {},
   "outputs": [],
   "source": [
    "import pickle\n",
    "with open(\"cls_emb.pkl\", \"wb\") as f:\n",
    "    pickle.dump(cls_emb, f)"
   ]
  },
  {
   "cell_type": "code",
   "execution_count": 31,
   "id": "6a2d1c0f-10c2-4284-bf19-32937ab22e83",
   "metadata": {
    "scrolled": true
   },
   "outputs": [],
   "source": [
    "telegram_df.to_csv('telegram_df')"
   ]
  },
  {
   "cell_type": "code",
   "execution_count": null,
   "id": "ef74d8f0-b1f7-44b3-af3c-1ac32844a4a9",
   "metadata": {},
   "outputs": [],
   "source": []
  }
 ],
 "metadata": {
  "kernelspec": {
   "display_name": "Python 3 (ipykernel)",
   "language": "python",
   "name": "python3"
  },
  "language_info": {
   "codemirror_mode": {
    "name": "ipython",
    "version": 3
   },
   "file_extension": ".py",
   "mimetype": "text/x-python",
   "name": "python",
   "nbconvert_exporter": "python",
   "pygments_lexer": "ipython3",
   "version": "3.11.5"
  }
 },
 "nbformat": 4,
 "nbformat_minor": 5
}
