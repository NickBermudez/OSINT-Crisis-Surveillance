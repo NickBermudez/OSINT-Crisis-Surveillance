{
 "cells": [
  {
   "cell_type": "code",
   "execution_count": 2,
   "id": "5ee124b8-e84d-4ef9-842f-33e91508d5db",
   "metadata": {},
   "outputs": [
    {
     "name": "stderr",
     "output_type": "stream",
     "text": [
      "C:\\Users\\nicho\\AppData\\Local\\Programs\\Python\\Python311\\Lib\\site-packages\\fuzzywuzzy\\fuzz.py:11: UserWarning: Using slow pure-python SequenceMatcher. Install python-Levenshtein to remove this warning\n",
      "  warnings.warn('Using slow pure-python SequenceMatcher. Install python-Levenshtein to remove this warning')\n"
     ]
    }
   ],
   "source": [
    "from fuzzywuzzy import fuzz\n",
    "import pandas as pd\n",
    "import pickle\n",
    "from transformers import pipeline\n",
    "from sentence_transformers import SentenceTransformer\n",
    "import spacy\n",
    "from vaderSentiment.vaderSentiment import SentimentIntensityAnalyzer\n",
    "from tqdm import tqdm\n",
    "from nltk.corpus import wordnet"
   ]
  },
  {
   "cell_type": "code",
   "execution_count": 2,
   "id": "c719888c-faed-4e66-9bd2-51fc8c0c41c5",
   "metadata": {},
   "outputs": [],
   "source": [
    "nlp = spacy.load(\"en_core_web_sm\")\n",
    "sentiment_pipeline = pipeline(\"sentiment-analysis\", model=\"nlptown/bert-base-multilingual-uncased-sentiment\")\n",
    "sia = SentimentIntensityAnalyzer()"
   ]
  },
  {
   "cell_type": "code",
   "execution_count": 4,
   "id": "7864cafb-1e40-4f20-a4d3-d05e54529ffb",
   "metadata": {},
   "outputs": [],
   "source": [
    "telegram_df = pd.read_csv('russia_ukraine_public.csv')\n",
    "telegram_df = pd.DataFrame(data = telegram_df['text'], columns = ['text'])\n",
    "telegram_df = telegram_df.dropna()\n",
    "telegram_df['text'] = telegram_df['text'].apply(lambda text: text.replace('\\n', ' '))\n",
    "telegram_df.reset_index(inplace=True, drop = True)"
   ]
  },
  {
   "cell_type": "code",
   "execution_count": 5,
   "id": "0c71a9bc-166b-4701-b1a5-a800d2b4df5a",
   "metadata": {},
   "outputs": [],
   "source": [
    "def get_synonyms(keywords):\n",
    "    synonyms = {}\n",
    "    for word in keywords:\n",
    "        related_words = set()\n",
    "        for synset in wordnet.synsets(word):\n",
    "            for lemma in synset.lemmas():\n",
    "                related_words.add(lemma.name())\n",
    "        synonyms[word] = list(related_words)\n",
    "    all_synonyms = []\n",
    "    for word, related_words in synonyms.items():\n",
    "        related_words = [word.replace('_', ' ') for word in related_words]\n",
    "        all_synonyms = all_synonyms + related_words\n",
    "    \n",
    "    return all_synonyms"
   ]
  },
  {
   "cell_type": "code",
   "execution_count": 8,
   "id": "65114c17-3747-4d56-b757-fd41c60b2d25",
   "metadata": {},
   "outputs": [
    {
     "name": "stdout",
     "output_type": "stream",
     "text": [
      "🇷🇺🇺🇦 a large video of the assault on the checkpoint of the armed forces of ukraine by the combined assault group of the 4th brigade of the lpr army and one of the lars. after processing positions with artillery, attack aircraft go to enemy positions, where they crush resistance and clean up those who did not have time to escape.\n",
      "length_score: 0 keyword_score: 8 name_score: 0 sentiment_score: 2.7243\n",
      "link_score: 0\n",
      "Post relevance score: 10.7243\n",
      "---------\n",
      "🇺🇸🇷🇺🇺🇦the ukrainian government is hiding the number of people killed in the war, us presidential candidate donald trump said.  “this war should not have happened. but it did. and it’s harder to negotiate now than it was in the beginning. millions of people have died. and that number is only going to increase. the death toll is going to be higher than people can imagine. if you look at the destruction of buildings all over ukraine, the number is going to be higher. they’re lying when they say the numbers now, trying to make them small. they destroyed a building two blocks long — those are pretty big buildings. and they say one person got minor injuries. no, no, there were a lot of people killed. and there are people in those buildings, and they don’t have a chance. once they start collapsing, they don’t have a chance,” trump said on the lex fridman podcast.  the presidential candidate once again stated that if he were elected president, he would be guaranteed to conclude an agreement to end the war in ukraine. and that under his presidency, the war would not have happened in principle.  \"i have a very precise plan to stop ukraine and russia. and i have a certain idea, maybe not a plan, but an idea on china... but i can't reveal those plans to you, because if i reveal those plans to you, i won't be able to use them, they will be unsuccessful. part of it is surprise, right?\" he said.\n",
      "length_score: 0 keyword_score: 30 name_score: 3 sentiment_score: 2.9772\n",
      "link_score: 0\n",
      "Post relevance score: 35.977199999999996\n",
      "---------\n",
      "https://youtu.be/1gnIH83OWnw\n",
      "length_score: -5 keyword_score: -10 name_score: 0 sentiment_score: -0.0\n",
      "link_score: 0\n",
      "Post relevance score: -15.0\n",
      "---------\n",
      "⚡️ Ukraine-bound grain ship’s engine fails in Bosphorus.  A cargo ship passing through Istanbul's Bosphorus Strait overnight to take grain from Ukraine as part of a U.N.-brokered agreement experienced a minor engine breakdown, the second such event this week, Reuters reported.\n",
      "length_score: 0 keyword_score: 8 name_score: 6 sentiment_score: -0.3081\n",
      "link_score: 0\n",
      "Post relevance score: 13.6919\n",
      "---------\n",
      "Uprising in Brazil: National Congress Seized, Riot Officer Ripped from Horse and Dogpiled  READ: http://w-j.co/s/cb11e\n",
      "length_score: 0 keyword_score: -10 name_score: 2 sentiment_score: 1.6722000000000001\n",
      "link_score: 0\n",
      "Post relevance score: -6.3278\n",
      "---------\n",
      "​Zuckerberg ends controversial grants to election offices  READ: https://www.theepochtimes.com/zuckerberg-ends-controversial-grants-to-election-offices_4402674.html?utm_medium=epochtimes&utm_source=telegram  @EpochTimes |📱Download Our App\n",
      "length_score: 0 keyword_score: -10 name_score: 0 sentiment_score: -0.0774\n",
      "link_score: 0\n",
      "Post relevance score: -10.0774\n",
      "---------\n",
      "Parents in Loudoun County Call on School Board to Resign   https://www.thegatewaypundit.com/2022/12/parents-loundon-county-call-school-board-resign/\n",
      "length_score: 0 keyword_score: -10 name_score: 2 sentiment_score: 1.02\n",
      "link_score: 0\n",
      "Post relevance score: -6.98\n",
      "---------\n",
      "🇷🇺🇺🇦the published images from enemy satellites clearly show that a significant part of the warehouse in toropets survived due to underground storage facilities that withstood the cascade detonation. the damage is, of course, significant, but not terminal.  actually, this is a clear illustration of why it is necessary to build such ammunition storage facilities.\n",
      "length_score: 0 keyword_score: -10 name_score: 0 sentiment_score: -1.7781\n",
      "link_score: 0\n",
      "Post relevance score: -11.7781\n",
      "---------\n",
      "#FoundationWallets #Transparency  We will be moving 10,000,000 MATIC tokens from the Foundation Wallet for Delegation towards Validators.  You can track the tokens being moved and distributed using the Transparency Sheet here.\n",
      "length_score: 0 keyword_score: -10 name_score: 1 sentiment_score: -0.0\n",
      "link_score: 0\n",
      "Post relevance score: -9.0\n",
      "---------\n",
      "JUST IN: 5 Ex-Memphis Police Officers Charged with Murder in Death of Black Motorist, Tyre Nichols https://www.thegatewaypundit.com/2023/01/just-5-ex-memphis-police-officers-charged-murder-death-black-motorist-tyre-nichols/\n",
      "length_score: 0 keyword_score: -10 name_score: 0 sentiment_score: 2.658\n",
      "link_score: 0\n",
      "Post relevance score: -7.3420000000000005\n",
      "---------\n"
     ]
    }
   ],
   "source": [
    "class UserModel:\n",
    "    def __init__(self, min_length, name_weight, sentiment_weight, keywords, eval_mode = True):\n",
    "        self.min_length = min_length  \n",
    "        self.name_weight = name_weight  \n",
    "        self.sentiment_weight = sentiment_weight\n",
    "        self.keywords = keywords\n",
    "        self.eval_mode = eval_mode\n",
    "\n",
    "    def preprocess_text(self, text):\n",
    "        doc = nlp(text)\n",
    "        return [token.text.lower() for token in doc if not token.is_stop and not token.is_punct]\n",
    "\n",
    "    def count_keyword_matches(self, text, threshold=80):\n",
    "        vanilla_text = text.lower().split()\n",
    "        processed_text = set(self.preprocess_text(text))  \n",
    "        match_count = 0\n",
    "        for keyword in self.keywords:\n",
    "            for word in processed_text:\n",
    "                similarity = fuzz.ratio(keyword.lower(), word)  \n",
    "                if similarity >= threshold:  \n",
    "                    match_count += 1\n",
    "                    break\n",
    "                else:\n",
    "                    if keyword in vanilla_text:\n",
    "                        match_count += 1\n",
    "                        break\n",
    "        \n",
    "        return match_count\n",
    "\n",
    "    def extract_named_entities(self, text):\n",
    "        doc = nlp(text)\n",
    "        names = [ent.text for ent in doc.ents if ent.label_ in [\"ORG\", \"GPE\"]]\n",
    "        return names\n",
    "\n",
    "    def sentiment_analysis(self, text):\n",
    "        sentiment = sia.polarity_scores(text)\n",
    "        return sentiment[\"compound\"]\n",
    "\n",
    "    def check_for_links(self, text):\n",
    "        return \"http\" in text or \"https\" in text\n",
    "\n",
    "    def score_post(self, post):\n",
    "        post_length = len(post.split())\n",
    "        length_score = -5 if post_length <= self.min_length else 0\n",
    "        keyword_matches = self.count_keyword_matches(post)\n",
    "        keyword_score = 2 * keyword_matches if keyword_matches > 0 else - 10\n",
    "        person_names = self.extract_named_entities(post)\n",
    "        name_score = len(person_names) * self.name_weight\n",
    "        sentiment_score = self.sentiment_analysis(post) * self.sentiment_weight\n",
    "        link_score = 5 if (self.check_for_links(post) and keyword_score > 0) else 0\n",
    "        total_score = (\n",
    "            length_score +\n",
    "            keyword_score +\n",
    "            name_score +\n",
    "            sentiment_score +\n",
    "            link_score \n",
    "        )\n",
    "        if self.eval_mode:\n",
    "            print('length_score:',length_score, 'keyword_score:',keyword_score, 'name_score:',name_score, 'sentiment_score:',sentiment_score)\n",
    "            print('link_score:',link_score)\n",
    "        return total_score\n",
    "\n",
    "keywords = ['russia', 'ukraine', 'ukranian', 'russian', 'ukranians', 'russians', '🇷🇺', '🇷🇺🇺🇦', '⚡️', 'war', '🇺🇦', 'putin', 'Putin', 'Zelenskyy'] \n",
    "synonyms = get_synonyms(keywords)\n",
    "keywords = keywords + synonyms\n",
    "user_model = UserModel(min_length=5, name_weight=1, sentiment_weight=-3, keywords=keywords)\n",
    "\n",
    "\n",
    "posts = telegram_df.sample(n=10)['text']\n",
    "for post in posts:\n",
    "    print(post)\n",
    "    score = user_model.score_post(post)\n",
    "    print(f\"Post relevance score: {score}\")\n",
    "    print('---------')"
   ]
  },
  {
   "cell_type": "code",
   "execution_count": 15,
   "id": "bdeac6d9-4516-489c-8546-84f340b8506d",
   "metadata": {},
   "outputs": [
    {
     "name": "stderr",
     "output_type": "stream",
     "text": [
      "100%|████████████████████████████████████████████████████████████████████████| 152609/152609 [1:10:41<00:00, 35.98it/s]\n"
     ]
    }
   ],
   "source": [
    "tqdm.pandas()\n",
    "user_model = UserModel(min_length=5, name_weight=1, sentiment_weight=-3, keywords=keywords, eval_mode=False)\n",
    "telegram_df['user_score_1'] = telegram_df['text'].progress_apply(lambda text: user_model.score_post(text))"
   ]
  },
  {
   "cell_type": "code",
   "execution_count": 16,
   "id": "aaad4eab-4ffc-45db-877e-abfbd6dbc5a4",
   "metadata": {},
   "outputs": [],
   "source": [
    "#with open('telegram_df', 'wb') as file:\n",
    "#    pickle.dump(telegram_df, file)"
   ]
  },
  {
   "cell_type": "code",
   "execution_count": null,
   "id": "39d62dd5-d474-444c-97fe-faacb434a768",
   "metadata": {},
   "outputs": [],
   "source": []
  }
 ],
 "metadata": {
  "kernelspec": {
   "display_name": "Python 3 (ipykernel)",
   "language": "python",
   "name": "python3"
  },
  "language_info": {
   "codemirror_mode": {
    "name": "ipython",
    "version": 3
   },
   "file_extension": ".py",
   "mimetype": "text/x-python",
   "name": "python",
   "nbconvert_exporter": "python",
   "pygments_lexer": "ipython3",
   "version": "3.11.5"
  }
 },
 "nbformat": 4,
 "nbformat_minor": 5
}
