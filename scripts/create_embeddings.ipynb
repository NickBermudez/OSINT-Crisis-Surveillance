{
 "cells": [
  {
   "cell_type": "code",
   "execution_count": null,
   "id": "b64c9d4b-6df7-4e5b-b8df-04e504334182",
   "metadata": {},
   "outputs": [],
   "source": [
    "# import dependencies\n",
    "from tqdm import tqdm\n",
    "import pandas as pd\n",
    "from sentence_transformers import SentenceTransformer\n",
    "import pickle"
   ]
  },
  {
   "cell_type": "code",
   "execution_count": null,
   "id": "a9be1631-2f96-42eb-9eff-9fc94dff550e",
   "metadata": {},
   "outputs": [],
   "source": [
    "# open the telegram post df\n",
    "with open('../data/telegram_df', 'rb') as f:\n",
    "    telegram_df = pickle.load(f)"
   ]
  },
  {
   "cell_type": "code",
   "execution_count": null,
   "id": "e27246d2-f273-4465-8f13-128fe34e374b",
   "metadata": {
    "scrolled": true
   },
   "outputs": [],
   "source": [
    "# use paraphrase miniLM L6 v2 or any other model you want\n",
    "model = SentenceTransformer('paraphrase-MiniLM-L6-v2')\n",
    "\n",
    "#generate embeddings\n",
    "sbert_emb = []\n",
    "for i in tqdm(range(len(telegram_df))):\n",
    "    row = telegram_df.iloc[i]\n",
    "    text = row['text']\n",
    "    embedding = model.encode(text)\n",
    "    sbert_emb.append(embedding)"
   ]
  },
  {
   "cell_type": "code",
   "execution_count": null,
   "id": "1a1e6e73-c53b-499c-9a9b-5009d14767dc",
   "metadata": {},
   "outputs": [],
   "source": [
    "# save embeddings\n",
    "with open('../data/sbert_embeddings.pkl', 'wb') as f:\n",
    "    pickle.dump(sbert_emb, f)"
   ]
  },
  {
   "cell_type": "code",
   "execution_count": null,
   "id": "ef74d8f0-b1f7-44b3-af3c-1ac32844a4a9",
   "metadata": {},
   "outputs": [],
   "source": []
  }
 ],
 "metadata": {
  "kernelspec": {
   "display_name": "Python 3 (ipykernel)",
   "language": "python",
   "name": "python3"
  },
  "language_info": {
   "codemirror_mode": {
    "name": "ipython",
    "version": 3
   },
   "file_extension": ".py",
   "mimetype": "text/x-python",
   "name": "python",
   "nbconvert_exporter": "python",
   "pygments_lexer": "ipython3",
   "version": "3.11.5"
  }
 },
 "nbformat": 4,
 "nbformat_minor": 5
}
