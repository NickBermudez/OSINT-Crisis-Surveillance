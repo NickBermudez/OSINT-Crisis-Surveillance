{
 "cells": [
  {
   "cell_type": "code",
   "execution_count": 1,
   "id": "b64c9d4b-6df7-4e5b-b8df-04e504334182",
   "metadata": {},
   "outputs": [],
   "source": [
    "from tqdm import tqdm\n",
    "import pandas as pd\n",
    "from sentence_transformers import SentenceTransformer\n",
    "import pickle"
   ]
  },
  {
   "cell_type": "code",
   "execution_count": 8,
   "id": "a9be1631-2f96-42eb-9eff-9fc94dff550e",
   "metadata": {},
   "outputs": [],
   "source": [
    "with open('final_telegram_df', 'rb') as f:\n",
    "    telegram_df = pickle.load(f)"
   ]
  },
  {
   "cell_type": "code",
   "execution_count": 9,
   "id": "e27246d2-f273-4465-8f13-128fe34e374b",
   "metadata": {
    "scrolled": true
   },
   "outputs": [
    {
     "name": "stderr",
     "output_type": "stream",
     "text": [
      "C:\\Users\\nicho\\AppData\\Local\\Programs\\Python\\Python311\\Lib\\site-packages\\transformers\\tokenization_utils_base.py:1617: FutureWarning: `clean_up_tokenization_spaces` was not set. It will be set to `True` by default. This behavior will be deprecated in transformers v4.45, and will be then set to `False` by default. For more details check this issue: https://github.com/huggingface/transformers/issues/31884\n",
      "  warnings.warn(\n",
      "100%|████████████████████████████████████████████████████████████████████████| 152609/152609 [1:20:47<00:00, 31.48it/s]\n"
     ]
    }
   ],
   "source": [
    "model = SentenceTransformer('paraphrase-MiniLM-L6-v2')\n",
    "sbert_emb = []\n",
    "for i in tqdm(range(len(telegram_df))):\n",
    "    row = telegram_df.iloc[i]\n",
    "    text = row['text']\n",
    "    embedding = model.encode(text)\n",
    "    sbert_emb.append(embedding)"
   ]
  },
  {
   "cell_type": "code",
   "execution_count": 10,
   "id": "1a1e6e73-c53b-499c-9a9b-5009d14767dc",
   "metadata": {},
   "outputs": [],
   "source": [
    "with open('sbert_embeddings.pkl', 'wb') as f:\n",
    "    pickle.dump(sbert_emb, f)"
   ]
  },
  {
   "cell_type": "code",
   "execution_count": null,
   "id": "ef74d8f0-b1f7-44b3-af3c-1ac32844a4a9",
   "metadata": {},
   "outputs": [],
   "source": []
  }
 ],
 "metadata": {
  "kernelspec": {
   "display_name": "Python 3 (ipykernel)",
   "language": "python",
   "name": "python3"
  },
  "language_info": {
   "codemirror_mode": {
    "name": "ipython",
    "version": 3
   },
   "file_extension": ".py",
   "mimetype": "text/x-python",
   "name": "python",
   "nbconvert_exporter": "python",
   "pygments_lexer": "ipython3",
   "version": "3.11.5"
  }
 },
 "nbformat": 4,
 "nbformat_minor": 5
}
